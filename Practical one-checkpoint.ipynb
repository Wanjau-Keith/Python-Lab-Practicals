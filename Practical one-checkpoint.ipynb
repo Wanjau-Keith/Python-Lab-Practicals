{
 "cells": [
  {
   "cell_type": "code",
   "execution_count": 2,
   "metadata": {},
   "outputs": [
    {
     "name": "stdout",
     "output_type": "stream",
     "text": [
      "Sam\n",
      "23\n",
      "Male\n"
     ]
    }
   ],
   "source": [
    "Name='Sam'\n",
    "Age=23\n",
    "Gender='Male'\n",
    "print(Name)\n",
    "print(Age)\n",
    "print(Gender)\n",
    "print(Name+Age+Gender)\n",
    "\n"
   ]
  }
 ],
 "metadata": {
  "kernelspec": {
   "display_name": "Python 3",
   "language": "python",
   "name": "python3"
  },
  "language_info": {
   "codemirror_mode": {
    "name": "ipython",
    "version": 3
   },
   "file_extension": ".py",
   "mimetype": "text/x-python",
   "name": "python",
   "nbconvert_exporter": "python",
   "pygments_lexer": "ipython3",
   "version": "3.8.5"
  }
 },
 "nbformat": 4,
 "nbformat_minor": 4
}
